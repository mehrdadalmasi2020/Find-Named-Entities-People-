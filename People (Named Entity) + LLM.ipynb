{
 "cells": [
  {
   "cell_type": "code",
   "execution_count": 1,
   "id": "b61406dd",
   "metadata": {},
   "outputs": [],
   "source": [
    "\n",
    "TextInput='''\n",
    "The idea for a university in Coventry was first mooted shortly after the end of the Second World War, but it was a bold and imaginative partnership of the City and the County which brought the University into being on a 170-hectare site jointly granted by the two authorities. Since then, the University has incorporated the former Coventry College of Education in 1979 and HRI Wellesbourne and Kirton in 2004 and has extended its land holdings by the purchase of adjoining farmland. The establishment of the University of Warwick was given approval by the government in 1961 and the University received its Royal Charter of Incorporation in 1965. It is situated on a large 533-hectare campus which straddles the boundary between the City of Coventry and the County of Warwickshire and includes land in Wellesbourne in Warwickshire as well as a building at the University Hospital Coventry and Warwickshire (UHCW) in Walsgrave, Coventry.\n",
    "\n",
    "The University initially admitted a small intake of graduate students in 1964 and took its first 450 undergraduates in October 1965. In November 2022, the student population was over 28,500. Today 33% of the student body comes from overseas from approximately 150 countries. The University has 33 academic departments and over 60 research centres and institutes in three Faculties: Arts; Science, Engineering and Medicine; and Social Sciences.\n",
    "\n",
    "Warwick has always encouraged and facilitated admission from anyone who has the potential to succeed at the University. In 1991 the University initiated an innovative shared 2+2 degree programme with a group of local FE Colleges which was specifically aimed at individuals with few if any formal qualifications and who were often in situations of considerable social and economic disadvantage. Warwick has also been involved with Foundation Degrees since they were first piloted by the government in 2001. The University also delivers Widening Participation programmes for students of all ages and abilities, intended to increase participants’ awareness and understanding of higher education, raise aspirations and break down stereotypes and barriers.\n",
    "\n",
    "During Warwick’s 50th Anniversary, we were proud to be named as the Times and Sunday Times University of the Year 2014/15. As part of our 50th celebrations, we ran a programme of events throughout 2015, involving alumni, the local community, former members of staff and current staff and students. The centrepiece event was the Festival of the Imagination, featuring three days of activity from talks and debates, a discovery zone and more, all centred around the theme of ‘Imagining the Future’. We also partnered with the Cheltenham Festival for its 2015 events.\n",
    "\n",
    "The University's first Chancellor was Lord Radcliffe, who continued in office until his death in April 1977. He was succeeded by Lord Scarman, who retired from office in 1989. Warwick's third Chancellor was Sir Shridath Ramphal, who presided over the University from 1989 - 2002, and the University's fourth Chancellor, Sir Nicholas Scheele, was appointed in March 2002. Richard Lambert, Director General of the CBI, was formally installed as the University's fifth Chancellor in December 2008. In November 2016 the University's sixth, and first ever female Chancellor was announced, Baroness Catherine Ashton.\n",
    "\n",
    "The University's founding Vice-Chancellor was Jack Butterworth (later Lord Butterworth), who guided the University through its formative years and provided much of the vision for the University's future growth and success. His achievement was to establish Warwick firmly on the national stage, to set a basic strategy and culture for the University and to oversee the building of a university on what was a greenfield site. He was succeeded in September 1985 by Dr Clark Brundin. As Vice-Chancellor from 1985 until 1992, Dr. Brundin presided over a period of expansion and success: student numbers doubled, postgraduates increased by over 250% and Warwick established itself firmly in the top tier of UK research universities. Dr Brundin was succeeded in 1993 by Professor Sir Brian Follett, formerly Biological Secretary and Vice-President of the Royal Society, and Agricultural and Food Research Council Research Professor in the School of Biological Sciences at the University of Bristol.\n",
    "\n",
    "In 1994, Sir Brian launched the Warwick Research Fellowships, a £10m scheme, entirely financed by the University, which brought to Warwick a cohort of some of the brightest young researchers in the UK and abroad. His successful academic leadership resulted in the excellent results for the University in the Research Assessment Exercises of 1996 and 2001, the successes in external teaching assessments and the considerable popularity of the University as a place to work and study. Sir Brian also presided over an ambitious building programme that resulted in over £100m of new capital projects during his leadership. Sir Brian retired in 2001 and was succeeded by Professor David VandeLinde, formerly Dean of the Whiting School of Engineering at Johns Hopkins University and latterly Vice-Chancellor at the University of Bath. His period as Vice-Chancellor was marked by an emphasis on building links and partnerships with the local community, an enhanced international strategy and the welcoming of HRI Wellesbourne and Kirton to the University as Warwick HRI.\n",
    "\n",
    "Professor VandeLinde was succeeded by Professor Nigel Thrift in 2006, formerly Pro-Vice-Chancellor for Research and Head of the Division of Life and Environmental Sciences at the University of Oxford, and awarded a knighthood in 2015 for his services to higher education. In early 2016 Professor Stuart Croft, formerly the Provost at the University, succeeded Professor Sir Nigel Thrift. Professor Croft has been part of Warwick's community since 2007, when he first joined the Politics and International Studies department as Professor of International Security. Prior to his appointment as Provost, he was Warwick's Pro-Vice-Chancellor for Research (Arts and Social Sciences).\n",
    "\n",
    "Rankings and League Tables\n",
    "From its beginnings, the University has sought to promote excellence in both teaching and research. It has secured its place as one of the UK's leading research universities. The REF 2008 results placed Warwick 7th overall amongst comprehensive institutions in the UK and confirmed that 94% of Warwick's research is internationally recognised. In the media league tables, Warwick consistently maintains its position in the UK top ten.\n",
    "\n",
    "According to the latest UK Government Research Excellence Framework (REF 2021), 92% of our research is world-leading or internationally excellent. In the media league tables, Warwick consistently maintains its position in the UK top ten, and we continue to illustrate our reputation for excellence, both in the UK and globally. We are proud to have been named University of the Year for Teaching Quality, and runner-up for overall University of the Year, in The Times/Sunday Times Good University Guide 2022. In the Guardian University Guide 2023, Warwick ranked 8th, and in The Times Higher Education (THE) World University Rankings 2022, Warwick ranked as 9th ​in the UK. Warwick is now ranked 64th in the world in the QS University World University Rankings, which evaluates over 5,000 universities.\n",
    "'''"
   ]
  },
  {
   "cell_type": "code",
   "execution_count": 2,
   "id": "facaf9f4",
   "metadata": {},
   "outputs": [
    {
     "data": {
      "text/plain": [
       "7320"
      ]
     },
     "execution_count": 2,
     "metadata": {},
     "output_type": "execute_result"
    }
   ],
   "source": [
    "len(TextInput)"
   ]
  },
  {
   "cell_type": "code",
   "execution_count": 3,
   "id": "cab894b0",
   "metadata": {},
   "outputs": [
    {
     "name": "stdout",
     "output_type": "stream",
     "text": [
      "start_model\n"
     ]
    },
    {
     "data": {
      "application/vnd.jupyter.widget-view+json": {
       "model_id": "bf281512e1fb4be5a1b7c74bc1ee978a",
       "version_major": 2,
       "version_minor": 0
      },
      "text/plain": [
       "Loading checkpoint shards:   0%|          | 0/2 [00:00<?, ?it/s]"
      ]
     },
     "metadata": {},
     "output_type": "display_data"
    },
    {
     "name": "stderr",
     "output_type": "stream",
     "text": [
      "Special tokens have been added in the vocabulary, make sure the associated word embeddings are fine-tuned or trained.\n",
      "Special tokens have been added in the vocabulary, make sure the associated word embeddings are fine-tuned or trained.\n"
     ]
    }
   ],
   "source": [
    "import torch\n",
    "from transformers import AutoModelForCausalLM, AutoTokenizer, GenerationConfig\n",
    "from semantic_text_splitter import HuggingFaceTextSplitter\n",
    "from tokenizers import Tokenizer\n",
    "import os\n",
    "import gc\n",
    "\n",
    "os.environ[\"CUDA_DEVICE_ORDER\"]=\"PCI_BUS_ID\" \n",
    "os.environ[\"CUDA_VISIBLE_DEVICES\"]=\"0\"\n",
    "from langchain.text_splitter import CharacterTextSplitter\n",
    "\n",
    "device = \"cuda\" # use cuda if you have\n",
    "print(\"start_model\")\n",
    "# \"Open-Orca/Mistral-7B-OpenOrca\" # mistralai/Mistral-7B-v0.1\n",
    "model = AutoModelForCausalLM.from_pretrained(\"Open-Orca/Mistral-7B-OpenOrca\").to(device)\n",
    "tokenizer = AutoTokenizer.from_pretrained(\"Open-Orca/Mistral-7B-OpenOrca\")\n"
   ]
  },
  {
   "cell_type": "code",
   "execution_count": 4,
   "id": "870a4abe",
   "metadata": {},
   "outputs": [
    {
     "name": "stdout",
     "output_type": "stream",
     "text": [
      "done\n"
     ]
    }
   ],
   "source": [
    "print(\"done\")"
   ]
  },
  {
   "cell_type": "code",
   "execution_count": 5,
   "id": "01185ab3",
   "metadata": {},
   "outputs": [
    {
     "name": "stderr",
     "output_type": "stream",
     "text": [
      "Setting `pad_token_id` to `eos_token_id`:32000 for open-end generation.\n"
     ]
    },
    {
     "name": "stdout",
     "output_type": "stream",
     "text": [
      "People:\n",
      "Jack Butterworth, Lord Radcliffe, Lord Scarman, Sir Shridath Ramphal, Sir Nicholas Scheele, Richard Lambert, Baroness Catherine Ashton, Dr Clark Brundin, Professor Sir Brian Follett, Sir Brian, Professor David VandeLinde, Professor Nigel Thrift, Professor Stuart Croft, Jack Butterworth (Lord Butterworth), Richard Lambert (Director General of the CBI), Dr Clark Brundin, Professor Sir Brian Follett, Sir Brian, Professor David VandeLinde, Professor Nigel Thrift, Professor Stuart Croft\n"
     ]
    }
   ],
   "source": [
    "       \n",
    "gc.collect()\n",
    "torch.cuda.empty_cache()\n",
    "\n",
    "\n",
    "#         print(e_t)\n",
    "prompt = \"I give you a text. You must find all the names of people in the text, if there are any. You must only write the names of people like <Names: names of people>. The text  is as follows: \\n\\n\"+TextInput+\" \\n &&&&&&&&&&&&&&&&&&& \\n\"#.replace(\"\\n\",\"\")\n",
    "prompt=prompt.replace(\"  \",\" \")\n",
    "prompt=prompt.lstrip().rstrip().strip()\n",
    "inputs = tokenizer(\n",
    "    prompt,\n",
    "    return_tensors=\"pt\").to(device)\n",
    "\n",
    "outputs = model.generate(\n",
    "    **inputs, max_new_tokens=9000, use_cache=True, do_sample=True,\n",
    "    temperature=0.1, top_p=0.95)\n",
    "\n",
    "bbb=tokenizer.batch_decode(outputs)[0].replace(TextInput,\"\").lstrip().rstrip().strip().split(\"&&&&&&&&&&&&&&&&&&&\")[-1]\n",
    "bbb=bbb.rstrip().lstrip().strip().split(\": \")[-1].replace(\"<|im_end|>\",\"\").replace(\">\",\"\").replace(\"<\",\"\").rstrip().lstrip().strip()\n",
    "\n",
    "\n",
    "if \":\" in bbb:\n",
    "    bbb=bbb.split(\":\")[1]\n",
    "\n",
    "print(\"People:\")\n",
    "print(bbb)"
   ]
  },
  {
   "cell_type": "code",
   "execution_count": null,
   "id": "9e46dcd3",
   "metadata": {},
   "outputs": [],
   "source": []
  }
 ],
 "metadata": {
  "kernelspec": {
   "display_name": "Python 3 (ipykernel)",
   "language": "python",
   "name": "python3"
  },
  "language_info": {
   "codemirror_mode": {
    "name": "ipython",
    "version": 3
   },
   "file_extension": ".py",
   "mimetype": "text/x-python",
   "name": "python",
   "nbconvert_exporter": "python",
   "pygments_lexer": "ipython3",
   "version": "3.11.5"
  }
 },
 "nbformat": 4,
 "nbformat_minor": 5
}
